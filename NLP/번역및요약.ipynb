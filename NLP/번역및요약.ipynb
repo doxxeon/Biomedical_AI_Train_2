{
  "cells": [
    {
      "cell_type": "markdown",
      "id": "e2f327e7",
      "metadata": {
        "id": "e2f327e7"
      },
      "source": [
        "# OpenAPI를 이용한 논문, 기사, 글 요약 및 번역\n",
        "\n",
        "https://jehyunlee.github.io/2022/07/02/Python-DS-106-aaicon/\n",
        "\n",
        "### Reference\n",
        "\n",
        "```\n",
        "이제현, 유시현, 김창기, 김현구, \"Open API를 활용한 고속 논문 분석\",\n",
        "실용인공지능학회지 vol.1 p.9, 2022\n",
        "```"
      ]
    },
    {
      "cell_type": "markdown",
      "id": "df051431",
      "metadata": {
        "id": "df051431"
      },
      "source": [
        "## API 키 발급\n",
        "\n",
        "- RapidAPI : https://rapidapi.com/developer/new\n",
        "- 네이버 : https://developers.naver.com/apps/#/register?api=ppg_n2mt"
      ]
    },
    {
      "cell_type": "code",
      "execution_count": 1,
      "id": "b204963a",
      "metadata": {
        "id": "b204963a"
      },
      "outputs": [],
      "source": [
        "rapidapi_key = 'c196b39e19mshfd67a75bb1c8eb2p1da03djsneb80ea878694'\n",
        "#naver_client_id = 'YOUR_API_KEY_HERE'\n",
        "#naver_client_secret = 'YOUR_API_KEY_HERE'"
      ]
    },
    {
      "cell_type": "markdown",
      "id": "f74b1efd",
      "metadata": {
        "id": "f74b1efd"
      },
      "source": [
        "# TLDRThis\n",
        "\n",
        "- https://rapidapi.com/tldrthishq-tldrthishq-default/api/tldrthis/\n",
        "\n",
        "---\n",
        "\n",
        "## 요약의 종류\n",
        "\n",
        "1. Abstractive(Human-like) summarization\n",
        "\n",
        "> Abstractive summarization(생성 요약)은 기존 Input text를 그대로 인용하지 않고, 기존의 내용을 새롭게 re-phrasing 하여 Summary를 생성하는 요약 모델입니다.\n",
        "\n",
        "2. Extractive summarization\n",
        "\n",
        "> 반면에 Extractive summarization(추출 요약)은 기존 Input text에 존재하는 중요한 단어를 그대로 사용하여 Summary를 생성하는 요약 모델입니다.\n",
        "\n",
        "출처 : https://supkoon.tistory.com/40"
      ]
    },
    {
      "cell_type": "code",
      "execution_count": 2,
      "id": "69898271",
      "metadata": {
        "id": "69898271"
      },
      "outputs": [],
      "source": [
        "import requests\n",
        "from pprint import pprint"
      ]
    },
    {
      "cell_type": "markdown",
      "id": "61573ca4",
      "metadata": {
        "id": "61573ca4"
      },
      "source": [
        "### 예시 논문\n",
        "\n",
        "Attention Is All You Need\n",
        "- 페이지 : https://arxiv.org/abs/1706.03762\n",
        "- 본문(pdf) : https://arxiv.org/pdf/1706.03762.pdf"
      ]
    },
    {
      "cell_type": "markdown",
      "id": "f600ad29",
      "metadata": {
        "id": "f600ad29"
      },
      "source": [
        "## 요약"
      ]
    },
    {
      "cell_type": "code",
      "execution_count": 34,
      "id": "WcKTwNmbH7bf",
      "metadata": {
        "colab": {
          "base_uri": "https://localhost:8080/"
        },
        "id": "WcKTwNmbH7bf",
        "outputId": "14f74ad8-3c82-4a3b-901d-b42d9ffd10da"
      },
      "outputs": [
        {
          "name": "stdout",
          "output_type": "stream",
          "text": [
            "{'article_abstract': None,\n",
            " 'article_authors': None,\n",
            " 'article_html': '<div><p class=\"sc-3b6b161a-0 fDtfvH\"><h1 '\n",
            "                 'class=\"sc-f98b1ad2-0 dfvxux\">North Face and Cartier customer '\n",
            "                 'data stolen in cyber attacks</h1></p>14 hours ago<p '\n",
            "                 'class=\"sc-801dd632-3 gXqOYA\"></p><p class=\"sc-801dd632-7 '\n",
            "                 'lasLGY\">Imran Rahman-Jones</p><p class=\"sc-801dd632-8 '\n",
            "                 'hwLppI\"><p>Technology reporter</p></p><p '\n",
            "                 'class=\"sc-801dd632-4 jdpfMh\"></p><img '\n",
            "                 'src=\"https://static.files.bbci.co.uk/bbcdotcom/web/20250529-103858-de9d27ef1-web-2.22.3-1/grey-placeholder.png\" '\n",
            "                 'class=\"sc-d1200759-0 dkIvM hide-when-no-script\"><img '\n",
            "                 'src=\"https://ichef.bbci.co.uk/news/480/cpsprodpb/3803/live/8a8f52f0-4052-11f0-b6e6-4ddb91039da1.png.webp\" '\n",
            "                 'alt=\"Getty Images The back of a young woman wearing a black '\n",
            "                 'and white puffer jacket the The North Face logo on it.\" '\n",
            "                 'class=\"sc-d1200759-0 dvfjxj\"><p class=\"sc-d1200759-2 '\n",
            "                 'gwFzuU\">Getty Images</p><p class=\"sc-9a00e533-0 '\n",
            "                 'hxuGS\">Fashion brand The North Face and luxury jeweller '\n",
            "                 'Cartier have become the latest retailers to report having '\n",
            "                 'customer data stolen in cyber attacks.</p><p '\n",
            "                 'class=\"sc-9a00e533-0 hxuGS\">North Face has emailed some '\n",
            "                 'customers saying it discovered a \"small-scale\" attack in '\n",
            "                 'April this year.</p><p class=\"sc-9a00e533-0 hxuGS\">Cartier '\n",
            "                 'said \"an unauthorized party gained temporary access to our '\n",
            "                 'system\". </p><p class=\"sc-9a00e533-0 hxuGS\">Both brands say '\n",
            "                 'data such as customers names and email addresses were taken, '\n",
            "                 'but financial information was not.</p><p '\n",
            "                 'class=\"sc-9a00e533-0 hxuGS\">There has been a wave of cyber '\n",
            "                 'attacks on high-profile retailers in recent weeks, including '\n",
            "                 \"Adidas, Victoria's Secret and Harrods.</p><p \"\n",
            "                 'class=\"sc-9a00e533-0 hxuGS\">Marks and Spencer (M&amp;S) and '\n",
            "                 'the Co-op had their operations severely disrupted when they '\n",
            "                 'were targeted in April.</p><p id=\"dotcom-mid_1\" '\n",
            "                 'class=\"dotcom-ad\"></p><p class=\"sc-9a00e533-0 hxuGS\">The '\n",
            "                 \"UK's National Crime Agency has said catching the criminals \"\n",
            "                 'responsible is <a target=\"_self\" '\n",
            "                 'href=\"https://www.bbc.co.uk/news/articles/ckgnndrgxv3o\" '\n",
            "                 'class=\"sc-f9178328-0 bGFWdi\">their top priority</a>.</p><p '\n",
            "                 'class=\"sc-3b6b161a-0 dHQIrb\"></p><p id=\"dotcom-mid_2\" '\n",
            "                 'class=\"dotcom-ad\"></p><p class=\"sc-9a00e533-0 hxuGS\">North '\n",
            "                 'Face <a target=\"_blank\" '\n",
            "                 'href=\"https://ago.vermont.gov/sites/ago/files/documents/2025-05-29%20VF%20Outdoor%20Data%20Breach%20Notice%20to%20Consumers.pdf\" '\n",
            "                 'class=\"sc-f9178328-0 bGFWdi\">told customers</a> the hackers '\n",
            "                 'it was targeted by used a technique called \"credential '\n",
            "                 'stuffing\", where attackers try usernames and passwords '\n",
            "                 'stolen from another data breach, in the hope customers have '\n",
            "                 'reused the same passwords across multiple accounts. </p><p '\n",
            "                 'class=\"sc-9a00e533-0 hxuGS\">They say the attackers may have '\n",
            "                 \"been able to gain access to some users' shipping addresses \"\n",
            "                 'and purchase histories.</p><p class=\"sc-9a00e533-0 '\n",
            "                 'hxuGS\">Affected customers will need to change their '\n",
            "                 'passwords.</p><p class=\"sc-9a00e533-0 hxuGS\">North Face\\'s '\n",
            "                 'owner, VF Corporation, was hit by a separate cyber attack in '\n",
            "                 'December 2023. </p><p class=\"sc-9a00e533-0 hxuGS\">That '\n",
            "                 'affected another of its brands, Vans, with its customers '\n",
            "                 'being warned their information may be at risk.</p><p '\n",
            "                 'class=\"sc-9a00e533-0 hxuGS\">Cartier\\'s data breach, '\n",
            "                 'meanwhile, was a hack of its system where attackers '\n",
            "                 '\"obtained limited client information,\" according to an email '\n",
            "                 'to its customers seen by BBC News. </p><p '\n",
            "                 'class=\"sc-9a00e533-0 hxuGS\">Passwords and card details were '\n",
            "                 'not accessed, it said.</p><p class=\"sc-9a00e533-0 hxuGS\">The '\n",
            "                 'firm added: \"We contained the issue and have further '\n",
            "                 'enhanced the protection of our systems and data.\"</p><p '\n",
            "                 'class=\"sc-9a00e533-0 hxuGS\">It also said it had reported the '\n",
            "                 'incident to the relevant authorities. </p><p '\n",
            "                 'class=\"sc-9a00e533-0 hxuGS\">BBC News has contacted North '\n",
            "                 'Face and Cartier for comment.</p><p class=\"sc-3b6b161a-0 '\n",
            "                 'fDtfvH\"><h2 class=\"sc-f98b1ad2-0 eOFjmw\">\\'Overflowing\\' '\n",
            "                 'with data</h2></p><p class=\"sc-9a00e533-0 hxuGS\">Retailers '\n",
            "                 'are often targets of cyber attacks, and there have been a '\n",
            "                 'string of high-profile companies publicly reporting being '\n",
            "                 'hacked recently. </p><p class=\"sc-9a00e533-0 hxuGS\">The '\n",
            "                 'attacks are a \"harsh reality\" for the industry, said James '\n",
            "                 'Hadley, founder of cyber-security company Immersive.</p><p '\n",
            "                 'class=\"sc-9a00e533-0 hxuGS\">Retailers are \"overflowing with '\n",
            "                 'customer information,\" becoming \"easy targets for '\n",
            "                 'attackers,\" he added.</p><p class=\"sc-9a00e533-0 '\n",
            "                 'hxuGS\">Stolen customer data can be used to impersonate '\n",
            "                 'legitimate companies and trick victims into giving away more '\n",
            "                 'sensitive data in the future, with cyber-criminals \"often '\n",
            "                 'content to play the long game,\" he said.</p><p '\n",
            "                 'class=\"sc-9a00e533-0 hxuGS\">In May, Adidas said the details '\n",
            "                 'of people who had contacted its help desk <a target=\"_self\" '\n",
            "                 'href=\"https://www.bbc.co.uk/news/articles/c071m82v80po\" '\n",
            "                 'class=\"sc-f9178328-0 bGFWdi\">were stolen.</a></p><p '\n",
            "                 'class=\"sc-9a00e533-0 hxuGS\">Victoria\\'s Secret also had to '\n",
            "                 '<a target=\"_self\" '\n",
            "                 'href=\"https://www.bbc.co.uk/news/articles/cwy6l5573jyo\" '\n",
            "                 'class=\"sc-f9178328-0 bGFWdi\">take down its US website</a> in '\n",
            "                 'May after a \"security incident\".</p><p class=\"sc-9a00e533-0 '\n",
            "                 'hxuGS\">The attack on Co-op left it with empty shelves, while '\n",
            "                 'M&amp;S says its online services <a target=\"_self\" '\n",
            "                 'href=\"https://www.bbc.co.uk/news/articles/c0el31nqnpvo\" '\n",
            "                 'class=\"sc-f9178328-0 bGFWdi\">will be disrupted until '\n",
            "                 'July</a>.</p><p class=\"sc-9a00e533-0 hxuGS\">M&amp;S '\n",
            "                 'estimates it will reduce profits for the current year by '\n",
            "                 'around &#163;300m.</p><p class=\"sc-9a00e533-0 hxuGS\">On '\n",
            "                 \"Monday, it revealed its chief executive's total pay package \"\n",
            "                 '<a target=\"_self\" '\n",
            "                 'href=\"https://www.bbc.co.uk/news/articles/c23mz5eg091o\" '\n",
            "                 'class=\"sc-f9178328-0 bGFWdi\">had grown to '\n",
            "                 '&#163;7m</a>.</p><p id=\"dotcom-mid_3\" '\n",
            "                 'class=\"dotcom-ad\"></p><img '\n",
            "                 'src=\"https://static.files.bbci.co.uk/bbcdotcom/web/20250529-103858-de9d27ef1-web-2.22.3-1/grey-placeholder.png\" '\n",
            "                 'class=\"sc-d1200759-0 dkIvM hide-when-no-script\"><img '\n",
            "                 'src=\"https://ichef.bbci.co.uk/news/480/cpsprodpb/41d3/live/348b21e0-26a8-11f0-8f57-b7237f6a66e6.png.webp\" '\n",
            "                 'alt=\"A green promotional banner with black squares and '\n",
            "                 'rectangles forming pixels, moving in from the right. The '\n",
            "                 'text says: &#8220;Tech Decoded: The world&#8217;s biggest '\n",
            "                 'tech news in your inbox every Monday.&#8221;\" '\n",
            "                 'class=\"sc-d1200759-0 dvfjxj\"></div>',\n",
            " 'article_image': 'https://ichef.bbci.co.uk/news/1024/branded_news/3803/live/8a8f52f0-4052-11f0-b6e6-4ddb91039da1.png',\n",
            " 'article_pub_date': None,\n",
            " 'article_text': 'North Face and Cartier customer data stolen in cyber '\n",
            "                 'attacks\\n'\n",
            "                 '\\n'\n",
            "                 '14 hours ago Share Save Imran Rahman-Jones Technology '\n",
            "                 'reporter Share Save\\n'\n",
            "                 '\\n'\n",
            "                 'Getty Images\\n'\n",
            "                 '\\n'\n",
            "                 'Fashion brand The North Face and luxury jeweller Cartier '\n",
            "                 'have become the latest retailers to report having customer '\n",
            "                 'data stolen in cyber attacks. North Face has emailed some '\n",
            "                 'customers saying it discovered a \"small-scale\" attack in '\n",
            "                 'April this year. Cartier said \"an unauthorized party gained '\n",
            "                 'temporary access to our system\". Both brands say data such '\n",
            "                 'as customers names and email addresses were taken, but '\n",
            "                 'financial information was not. There has been a wave of '\n",
            "                 'cyber attacks on high-profile retailers in recent weeks, '\n",
            "                 \"including Adidas, Victoria's Secret and Harrods. Marks and \"\n",
            "                 'Spencer (M&S) and the Co-op had their operations severely '\n",
            "                 'disrupted when they were targeted in April.\\n'\n",
            "                 '\\n'\n",
            "                 \"The UK's National Crime Agency has said catching the \"\n",
            "                 'criminals responsible is their top priority.\\n'\n",
            "                 '\\n'\n",
            "                 'North Face told customers the hackers it was targeted by '\n",
            "                 'used a technique called \"credential stuffing\", where '\n",
            "                 'attackers try usernames and passwords stolen from another '\n",
            "                 'data breach, in the hope customers have reused the same '\n",
            "                 'passwords across multiple accounts. They say the attackers '\n",
            "                 \"may have been able to gain access to some users' shipping \"\n",
            "                 'addresses and purchase histories. Affected customers will '\n",
            "                 \"need to change their passwords. North Face's owner, VF \"\n",
            "                 'Corporation, was hit by a separate cyber attack in December '\n",
            "                 '2023. That affected another of its brands, Vans, with its '\n",
            "                 'customers being warned their information may be at risk. '\n",
            "                 \"Cartier's data breach, meanwhile, was a hack of its system \"\n",
            "                 'where attackers \"obtained limited client information,\" '\n",
            "                 'according to an email to its customers seen by BBC News. '\n",
            "                 'Passwords and card details were not accessed, it said. The '\n",
            "                 'firm added: \"We contained the issue and have further '\n",
            "                 'enhanced the protection of our systems and data.\" It also '\n",
            "                 'said it had reported the incident to the relevant '\n",
            "                 'authorities. BBC News has contacted North Face and Cartier '\n",
            "                 'for comment.\\n'\n",
            "                 '\\n'\n",
            "                 \"'Overflowing' with data\",\n",
            " 'article_title': 'North Face and Cartier hit by cyber attacks',\n",
            " 'article_url': 'https://www.bbc.com/news/articles/c39x3jpv8lyo',\n",
            " 'summary': ['North Face and Cartier customer data stolen in cyber attacks\\n'\n",
            "             '\\n'\n",
            "             '14 hours ago Share Save Imran Rahman-Jones Technology reporter '\n",
            "             'Share Save\\n'\n",
            "             '\\n'\n",
            "             'Getty Images\\n'\n",
            "             '\\n'\n",
            "             'Fashion brand The North Face and luxury jeweller Cartier have '\n",
            "             'become the latest retailers to report having customer data '\n",
            "             'stolen in cyber attacks.',\n",
            "             'Cartier said \"an unauthorized party gained temporary access to '\n",
            "             'our system\".',\n",
            "             'They say the attackers may have been able to gain access to some '\n",
            "             \"users' shipping addresses and purchase histories.\",\n",
            "             'Affected customers will need to change their passwords.',\n",
            "             \"Cartier's data breach, meanwhile, was a hack of its system where \"\n",
            "             'attackers \"obtained limited client information,\" according to an '\n",
            "             'email to its customers seen by BBC News.',\n",
            "             'It also said it had reported the incident to the relevant '\n",
            "             'authorities.']}\n"
          ]
        }
      ],
      "source": [
        "url = \"https://tldrthis.p.rapidapi.com/v1/model/extractive/summarize-url/\"\n",
        "\n",
        "payload = {\n",
        "    \"url\": \"https://www.bbc.com/news/articles/c39x3jpv8lyo\", # 주소   https://arxiv.org/abs/1706.03762   https://arxiv.org/pdf/1706.03762.pdf\n",
        "    \"min_length\": 100, # 최소 길이\n",
        "    \"max_length\": 300, # 최대 길이\n",
        "    \"is_detailed\": False # 한 문장으로 반환할 것인지 여부\n",
        "}\n",
        "\n",
        "headers = {\n",
        "    \"content-type\": \"application/json\",\n",
        "    \"X-RapidAPI-Key\": rapidapi_key,\n",
        "    \"X-RapidAPI-Host\": \"tldrthis.p.rapidapi.com\"\n",
        "}\n",
        "\n",
        "response = requests.request(\"POST\", url, json=payload, headers=headers)\n",
        "\n",
        "pprint(response.json())"
      ]
    },
    {
      "cell_type": "code",
      "execution_count": 35,
      "id": "a9911dfa",
      "metadata": {
        "colab": {
          "base_uri": "https://localhost:8080/"
        },
        "id": "a9911dfa",
        "outputId": "55a91402-b065-4b15-a47b-0b98ca69fb9f"
      },
      "outputs": [
        {
          "name": "stdout",
          "output_type": "stream",
          "text": [
            "North Face and Cartier customer data stolen in cyber attacks\n",
            "\n",
            "14 hours ago Share Save Imran Rahman-Jones Technology reporter Share Save\n",
            "\n",
            "Getty Images\n",
            "\n",
            "Fashion brand The North Face and luxury jeweller Cartier have become the latest retailers to report having customer data stolen in cyber attacks.\n"
          ]
        }
      ],
      "source": [
        "summary = response.json()['summary'][0].strip()\n",
        "print(summary)"
      ]
    },
    {
      "cell_type": "markdown",
      "id": "CK5FMBo8q1-t",
      "metadata": {
        "id": "CK5FMBo8q1-t"
      },
      "source": [
        "구글 번역 API\n",
        "1. googletrans\n",
        "2. google cloud translation : api키도, 유료의 영역도 있음"
      ]
    },
    {
      "cell_type": "markdown",
      "id": "1SCm3t-v2mQR",
      "metadata": {
        "id": "1SCm3t-v2mQR"
      },
      "source": [
        "구글 번역 api 레퍼런스 : https://www.dinolabs.ai/386"
      ]
    },
    {
      "cell_type": "code",
      "execution_count": 5,
      "id": "Dzwr1xBDkuG3",
      "metadata": {
        "colab": {
          "base_uri": "https://localhost:8080/"
        },
        "id": "Dzwr1xBDkuG3",
        "outputId": "af8d8b14-d9e1-4336-d392-40edb2ce1c3f"
      },
      "outputs": [
        {
          "name": "stdout",
          "output_type": "stream",
          "text": [
            "Collecting googletrans==3.1.0a0\n",
            "  Downloading googletrans-3.1.0a0.tar.gz (19 kB)\n",
            "  Preparing metadata (setup.py) ... \u001b[?25ldone\n",
            "\u001b[?25hCollecting httpx==0.13.3 (from googletrans==3.1.0a0)\n",
            "  Downloading httpx-0.13.3-py3-none-any.whl.metadata (25 kB)\n",
            "Requirement already satisfied: certifi in /opt/miniconda3/envs/mlp/lib/python3.10/site-packages (from httpx==0.13.3->googletrans==3.1.0a0) (2025.4.26)\n",
            "Collecting hstspreload (from httpx==0.13.3->googletrans==3.1.0a0)\n",
            "  Downloading hstspreload-2025.1.1-py3-none-any.whl.metadata (2.1 kB)\n",
            "Requirement already satisfied: sniffio in /opt/miniconda3/envs/mlp/lib/python3.10/site-packages (from httpx==0.13.3->googletrans==3.1.0a0) (1.3.1)\n",
            "Collecting chardet==3.* (from httpx==0.13.3->googletrans==3.1.0a0)\n",
            "  Downloading chardet-3.0.4-py2.py3-none-any.whl.metadata (3.2 kB)\n",
            "Collecting idna==2.* (from httpx==0.13.3->googletrans==3.1.0a0)\n",
            "  Downloading idna-2.10-py2.py3-none-any.whl.metadata (9.1 kB)\n",
            "Collecting rfc3986<2,>=1.3 (from httpx==0.13.3->googletrans==3.1.0a0)\n",
            "  Downloading rfc3986-1.5.0-py2.py3-none-any.whl.metadata (6.5 kB)\n",
            "Collecting httpcore==0.9.* (from httpx==0.13.3->googletrans==3.1.0a0)\n",
            "  Downloading httpcore-0.9.1-py3-none-any.whl.metadata (4.6 kB)\n",
            "Collecting h11<0.10,>=0.8 (from httpcore==0.9.*->httpx==0.13.3->googletrans==3.1.0a0)\n",
            "  Downloading h11-0.9.0-py2.py3-none-any.whl.metadata (8.1 kB)\n",
            "Collecting h2==3.* (from httpcore==0.9.*->httpx==0.13.3->googletrans==3.1.0a0)\n",
            "  Downloading h2-3.2.0-py2.py3-none-any.whl.metadata (32 kB)\n",
            "Collecting hyperframe<6,>=5.2.0 (from h2==3.*->httpcore==0.9.*->httpx==0.13.3->googletrans==3.1.0a0)\n",
            "  Downloading hyperframe-5.2.0-py2.py3-none-any.whl.metadata (7.2 kB)\n",
            "Collecting hpack<4,>=3.0 (from h2==3.*->httpcore==0.9.*->httpx==0.13.3->googletrans==3.1.0a0)\n",
            "  Downloading hpack-3.0.0-py2.py3-none-any.whl.metadata (7.0 kB)\n",
            "Downloading httpx-0.13.3-py3-none-any.whl (55 kB)\n",
            "Downloading chardet-3.0.4-py2.py3-none-any.whl (133 kB)\n",
            "Downloading httpcore-0.9.1-py3-none-any.whl (42 kB)\n",
            "Downloading h11-0.9.0-py2.py3-none-any.whl (53 kB)\n",
            "Downloading h2-3.2.0-py2.py3-none-any.whl (65 kB)\n",
            "Downloading hpack-3.0.0-py2.py3-none-any.whl (38 kB)\n",
            "Downloading hyperframe-5.2.0-py2.py3-none-any.whl (12 kB)\n",
            "Downloading idna-2.10-py2.py3-none-any.whl (58 kB)\n",
            "Downloading rfc3986-1.5.0-py2.py3-none-any.whl (31 kB)\n",
            "Downloading hstspreload-2025.1.1-py3-none-any.whl (1.3 MB)\n",
            "\u001b[2K   \u001b[90m━━━━━━━━━━━━━━━━━━━━━━━━━━━━━━━━━━━━━━━━\u001b[0m \u001b[32m1.3/1.3 MB\u001b[0m \u001b[31m29.9 MB/s\u001b[0m eta \u001b[36m0:00:00\u001b[0m\n",
            "\u001b[?25hBuilding wheels for collected packages: googletrans\n",
            "\u001b[33m  DEPRECATION: Building 'googletrans' using the legacy setup.py bdist_wheel mechanism, which will be removed in a future version. pip 25.3 will enforce this behaviour change. A possible replacement is to use the standardized build interface by setting the `--use-pep517` option, (possibly combined with `--no-build-isolation`), or adding a `pyproject.toml` file to the source tree of 'googletrans'. Discussion can be found at https://github.com/pypa/pip/issues/6334\u001b[0m\u001b[33m\n",
            "\u001b[0m  Building wheel for googletrans (setup.py) ... \u001b[?25ldone\n",
            "\u001b[?25h  Created wheel for googletrans: filename=googletrans-3.1.0a0-py3-none-any.whl size=16409 sha256=29bd86880cade1cfa9b926a19bedffb25357054b7ccc8eb52339eb44c9a47ed1\n",
            "  Stored in directory: /Users/kimdohyeon/Library/Caches/pip/wheels/50/5d/3c/8477d0af4ca2b8b1308812c09f1930863caeebc762fe265a95\n",
            "Successfully built googletrans\n",
            "Installing collected packages: rfc3986, hyperframe, hpack, h11, chardet, idna, hstspreload, h2, httpcore, httpx, googletrans\n",
            "\u001b[2K  Attempting uninstall: hyperframe\n",
            "\u001b[2K    Found existing installation: hyperframe 6.1.0\n",
            "\u001b[2K    Uninstalling hyperframe-6.1.0:\n",
            "\u001b[2K      Successfully uninstalled hyperframe-6.1.0\n",
            "\u001b[2K  Attempting uninstall: hpack\n",
            "\u001b[2K    Found existing installation: hpack 4.1.0\n",
            "\u001b[2K    Uninstalling hpack-4.1.0:\n",
            "\u001b[2K      Successfully uninstalled hpack-4.1.0\n",
            "\u001b[2K  Attempting uninstall: h11\n",
            "\u001b[2K    Found existing installation: h11 0.16.0\n",
            "\u001b[2K    Uninstalling h11-0.16.0:\n",
            "\u001b[2K      Successfully uninstalled h11-0.16.0\n",
            "\u001b[2K  Attempting uninstall: idna\n",
            "\u001b[2K    Found existing installation: idna 3.10\n",
            "\u001b[2K    Uninstalling idna-3.10:\n",
            "\u001b[2K      Successfully uninstalled idna-3.10\n",
            "\u001b[2K  Attempting uninstall: h2\u001b[0m\u001b[90m╺\u001b[0m\u001b[90m━━━━━━━━━━━━━━━━━━━━━\u001b[0m \u001b[32m 5/11\u001b[0m [idna]\n",
            "\u001b[2K    Found existing installation: h2 4.2.0━━━━━━━━━━━━━━━━━━━━━\u001b[0m \u001b[32m 5/11\u001b[0m [idna]\n",
            "\u001b[2K    Uninstalling h2-4.2.0:\u001b[90m╺\u001b[0m\u001b[90m━━━━━━━━━━━━━━━━━━━━━\u001b[0m \u001b[32m 5/11\u001b[0m [idna]\n",
            "\u001b[2K      Successfully uninstalled h2-4.2.00m━━━━━━━━━━━━━━━━━━━━━\u001b[0m \u001b[32m 5/11\u001b[0m [idna]\n",
            "\u001b[2K  Attempting uninstall: httpcore\u001b[0m\u001b[90m━━━━━━━━━━━━━━━━━━━━━\u001b[0m \u001b[32m 5/11\u001b[0m [idna]\n",
            "\u001b[2K    Found existing installation: httpcore 1.0.9━━━━━━━━━━━━━━━\u001b[0m \u001b[32m 5/11\u001b[0m [idna]\n",
            "\u001b[2K    Uninstalling httpcore-1.0.9:\u001b[0m\u001b[90m━━━━━━━━━━━━━━━━━━━━━\u001b[0m \u001b[32m 5/11\u001b[0m [idna]\n",
            "\u001b[2K      Successfully uninstalled httpcore-1.0.9━━━━━━━━━━━━━━━━━\u001b[0m \u001b[32m 5/11\u001b[0m [idna]\n",
            "\u001b[2K  Attempting uninstall: httpx0m╺\u001b[0m\u001b[90m━━━━━━━━━━━━━━━━━━━━━\u001b[0m \u001b[32m 5/11\u001b[0m [idna]\n",
            "\u001b[2K    Found existing installation: httpx 0.28.1━━━━━━━━━━━━━━━━━\u001b[0m \u001b[32m 5/11\u001b[0m [idna]\n",
            "\u001b[2K    Uninstalling httpx-0.28.1:m╺\u001b[0m\u001b[90m━━━━━━━━━━━━━━━━━━━━━\u001b[0m \u001b[32m 5/11\u001b[0m [idna]\n",
            "\u001b[2K      Successfully uninstalled httpx-0.28.1━━━━━━━━━━━━━━━━━━━\u001b[0m \u001b[32m 5/11\u001b[0m [idna]\n",
            "\u001b[2K  Attempting uninstall: googletransm\u001b[90m━━━━━━━━━━━━━━━━━━━━━\u001b[0m \u001b[32m 5/11\u001b[0m [idna]\n",
            "\u001b[2K    Found existing installation: googletrans 4.0.2━━━━━━━━━━━━\u001b[0m \u001b[32m 5/11\u001b[0m [idna]\n",
            "\u001b[2K    Uninstalling googletrans-4.0.2:m\u001b[90m━━━━━━━━━━━━━━━━━━━━━\u001b[0m \u001b[32m 5/11\u001b[0m [idna]\n",
            "\u001b[2K      Successfully uninstalled googletrans-4.0.2━━━━━━━━━━━━━━\u001b[0m \u001b[32m 5/11\u001b[0m [idna]\n",
            "\u001b[2K   \u001b[90m━━━━━━━━━━━━━━━━━━━━━━━━━━━━━━━━━━━━━━━━\u001b[0m \u001b[32m11/11\u001b[0m [googletrans] [idna]\n",
            "\u001b[1A\u001b[2K\u001b[31mERROR: pip's dependency resolver does not currently take into account all the packages that are installed. This behaviour is the source of the following dependency conflicts.\n",
            "torchdata 0.6.1 requires torch==2.0.1, but you have torch 2.5.1 which is incompatible.\u001b[0m\u001b[31m\n",
            "\u001b[0mSuccessfully installed chardet-3.0.4 googletrans-3.1.0a0 h11-0.9.0 h2-3.2.0 hpack-3.0.0 hstspreload-2025.1.1 httpcore-0.9.1 httpx-0.13.3 hyperframe-5.2.0 idna-2.10 rfc3986-1.5.0\n"
          ]
        }
      ],
      "source": [
        "!pip install googletrans==3.1.0a0 # 버전 확인"
      ]
    },
    {
      "cell_type": "code",
      "execution_count": 36,
      "id": "O73SLFEXkrmi",
      "metadata": {
        "colab": {
          "base_uri": "https://localhost:8080/"
        },
        "id": "O73SLFEXkrmi",
        "outputId": "eeaf9e5f-7ad9-45c1-8e75-4c81077ac625"
      },
      "outputs": [
        {
          "name": "stdout",
          "output_type": "stream",
          "text": [
            "번역된 텍스트: ['사이버 공격으로 도난당한 노스 페이스 및 까르띠에 고객 데이터\\n\\n14 시간 전 공유 Save Imran Rahman-Jones 기술 리포터 공유 저장\\n\\n게티 이미지\\n\\n패션 브랜드 The North Face와 Luxury Jeweler Cartier는 사이버 공격에 고객 데이터를 도난당한 최신 소매 업체가되었습니다.', '까르띠에는 \"무단 당사자가 우리 시스템에 일시적인 접근을 얻었습니다\"라고 말했다.', '그들은 공격자가 일부 사용자의 배송 주소에 액세스하고 이력을 구매할 수 있다고 말합니다.', '영향을받는 고객은 비밀번호를 변경해야합니다.', '한편 Cartier의 데이터 위반은 BBC News가 본 고객에게 이메일에 따르면 공격자는 \"제한된 고객 정보를 얻는\"시스템의 해킹이었습니다.', '또한 사건을 관련 당국에보고했다고 밝혔다.']\n"
          ]
        }
      ],
      "source": [
        "from googletrans import Translator\n",
        "import json\n",
        "\n",
        "def translate_text(text, target_language='ko'):\n",
        "    translator = Translator()\n",
        "    translated_sentences = []\n",
        "    for sentence in text:\n",
        "        translated_sentence = translator.translate(sentence, dest=target_language)\n",
        "        translated_sentences.append(translated_sentence.text)\n",
        "    return translated_sentences\n",
        "\n",
        "# 응답받은 텍스트 디코딩\n",
        "response_text = response.text \n",
        "# response.content / response.text\n",
        "response_json = json.loads(response_text)\n",
        "\n",
        "# 번역할 텍스트 추출\n",
        "text_to_translate = response_json.get('summary', '')\n",
        "\n",
        "# 번역된 텍스트\n",
        "translated_text = translate_text(text_to_translate)\n",
        "\n",
        "print(\"번역된 텍스트:\", translated_text)\n"
      ]
    },
    {
      "cell_type": "markdown",
      "id": "142c4aa4",
      "metadata": {
        "id": "142c4aa4"
      },
      "source": [
        "## 번역\n",
        "\n",
        "네이버 파파고 API"
      ]
    },
    {
      "cell_type": "code",
      "execution_count": null,
      "id": "8bc6a8ee",
      "metadata": {
        "id": "8bc6a8ee",
        "outputId": "d1aa4fc0-c003-4288-d7a9-8c744391b84d"
      },
      "outputs": [
        {
          "name": "stdout",
          "output_type": "stream",
          "text": [
            "{'message': {'@service': 'naverservice.nmt.proxy',\n",
            "             '@type': 'response',\n",
            "             '@version': '1.0.0',\n",
            "             'result': {'dict': None,\n",
            "                        'engineType': 'UNDEF_MULTI_SENTENCE',\n",
            "                        'pivot': None,\n",
            "                        'srcLangType': 'en',\n",
            "                        'tarDict': None,\n",
            "                        'tarLangType': 'ko',\n",
            "                        'translatedText': '우리는 주의 메커니즘만을 기반으로 하는 새로운 간단한 네트워크 '\n",
            "                                          '아키텍처인 트랜스포머를 제안한다. 두 가지 기계 번역 작업에 '\n",
            "                                          '대한 실험은 이러한 모델이 품질 면에서 우수하면서도 병렬화가 더 '\n",
            "                                          '가능하고 교육하는 데 훨씬 적은 시간이 필요하다는 것을 '\n",
            "                                          '보여준다. Transformer는 훨씬 더 많은 병렬화를 '\n",
            "                                          '가능하게 하며 8개의 P100 GPU에서 12시간 정도 교육을 '\n",
            "                                          '받은 후 번역 품질에서 새로운 최첨단 기술에 도달할 수 '\n",
            "                                          '있습니다. 순차 연산을 줄이는 목표는 확장 신경 GPU[16], '\n",
            "                                          'ByteNet[18] 및 ConvS2S의 기초를 형성한다.'}}}\n"
          ]
        }
      ],
      "source": [
        "url = \"https://openapi.naver.com/v1/papago/n2mt\"\n",
        "\n",
        "payload = {\n",
        "    \"source\": \"en\",\n",
        "    \"target\": \"ko\",\n",
        "    \"text\": summary,\n",
        "}\n",
        "\n",
        "headers = {\n",
        "    \"content-type\": \"application/json\",\n",
        "    \"X-Naver-Client-Id\": naver_client_id,\n",
        "    \"X-Naver-Client-Secret\": naver_client_secret,\n",
        "}\n",
        "\n",
        "response = requests.request(\"POST\", url, json=payload, headers=headers)\n",
        "\n",
        "pprint(response.json())"
      ]
    },
    {
      "cell_type": "code",
      "execution_count": null,
      "id": "e204b577",
      "metadata": {
        "id": "e204b577",
        "outputId": "4facf50c-ae74-4ab3-c346-7457cb1d5a91"
      },
      "outputs": [
        {
          "name": "stdout",
          "output_type": "stream",
          "text": [
            "우리는 주의 메커니즘만을 기반으로 하는 새로운 간단한 네트워크 아키텍처인 트랜스포머를 제안한다. 두 가지 기계 번역 작업에 대한 실험은 이러한 모델이 품질 면에서 우수하면서도 병렬화가 더 가능하고 교육하는 데 훨씬 적은 시간이 필요하다는 것을 보여준다. Transformer는 훨씬 더 많은 병렬화를 가능하게 하며 8개의 P100 GPU에서 12시간 정도 교육을 받은 후 번역 품질에서 새로운 최첨단 기술에 도달할 수 있습니다. 순차 연산을 줄이는 목표는 확장 신경 GPU[16], ByteNet[18] 및 ConvS2S의 기초를 형성한다.\n"
          ]
        }
      ],
      "source": [
        "print(response.json()['message']['result']['translatedText'])"
      ]
    },
    {
      "cell_type": "markdown",
      "id": "df0b8837",
      "metadata": {
        "id": "df0b8837"
      },
      "source": [
        "## 함수화"
      ]
    },
    {
      "cell_type": "code",
      "execution_count": null,
      "id": "3ef2e310",
      "metadata": {
        "id": "3ef2e310"
      },
      "outputs": [],
      "source": [
        "def summarize_and_translate(article_url, min_length=100, max_length=300):\n",
        "    url = \"https://tldrthis.p.rapidapi.com/v1/model/abstractive/summarize-url/\"\n",
        "\n",
        "    payload = {\n",
        "        \"url\": article_url, # 주소\n",
        "        \"min_length\": min_length, # 최소 길이\n",
        "        \"max_length\": max_length, # 최대 길이\n",
        "        \"is_detailed\": False # 한 문장으로 반환할 것인지 여부\n",
        "    }\n",
        "\n",
        "    headers = {\n",
        "        \"content-type\": \"application/json\",\n",
        "        \"X-RapidAPI-Key\": rapidapi_key,\n",
        "        \"X-RapidAPI-Host\": \"tldrthis.p.rapidapi.com\"\n",
        "    }\n",
        "\n",
        "    response = requests.request(\"POST\", url, json=payload, headers=headers)\n",
        "\n",
        "    summary = response.json()['summary'][0].strip()\n",
        "\n",
        "    url = \"https://openapi.naver.com/v1/papago/n2mt\"\n",
        "\n",
        "    payload = {\n",
        "        \"source\": \"en\",\n",
        "        \"target\": \"ko\",\n",
        "        \"text\": summary,\n",
        "    }\n",
        "\n",
        "    headers = {\n",
        "        \"content-type\": \"application/json\",\n",
        "        \"X-Naver-Client-Id\": naver_client_id,\n",
        "        \"X-Naver-Client-Secret\": naver_client_secret\n",
        "    }\n",
        "\n",
        "    response = requests.request(\"POST\", url, json=payload, headers=headers)\n",
        "\n",
        "    return response.json()['message']['result']['translatedText']"
      ]
    },
    {
      "cell_type": "code",
      "execution_count": null,
      "id": "88afea5a",
      "metadata": {
        "id": "88afea5a",
        "outputId": "2d6021f9-ecd2-4324-f58c-604ee6d04206"
      },
      "outputs": [
        {
          "data": {
            "text/plain": [
              "'우리는 주의 메커니즘만을 기반으로 하는 새로운 간단한 네트워크 아키텍처인 트랜스포머를 제안한다. 두 가지 기계 번역 작업에 대한 실험은 이러한 모델이 품질 면에서 우수하면서도 병렬화가 더 가능하고 교육하는 데 훨씬 적은 시간이 필요하다는 것을 보여준다. 트랜스포머는 훨씬 더 많은 병렬화를 가능하게 하며 8개의 P100에서 12시간 동안만 교육을 받은 후 번역 품질에서 새로운 기술에 도달할 수 있습니다.'"
            ]
          },
          "execution_count": 50,
          "metadata": {},
          "output_type": "execute_result"
        }
      ],
      "source": [
        "summarize_and_translate(\"https://arxiv.org/pdf/1706.03762.pdf\", 50, 100)"
      ]
    },
    {
      "cell_type": "code",
      "execution_count": null,
      "id": "52a35173",
      "metadata": {
        "id": "52a35173",
        "outputId": "236d79fd-f8ce-45c7-a20e-7ec54389fc1d"
      },
      "outputs": [
        {
          "data": {
            "text/plain": [
              "'EfficientNet-B7은 ImageNet에서 최고 84.3%의 정확도를 달성하는 동시에 기존 최고의 ConvNet보다 8.4배 작고 추론 속도가 6.1배 빠르다. 우리의 EfficientNets는 다른 ConvNets를 크게 능가한다. 이전 작업에서는 깊이, 너비, 이미지 크기 등 세 가지 차원 중 하나만 스케일링하는 것이 일반적이다. 단순하지만 매우 효과적인 복합 계수를 사용하여 깊이/폭/해상도의 모든 차원을 균일하게 확장하는 단순하지만 효과적인 복합 스케일링 방법을 제안한다. 예를 들어, 우리가 2N배 더 많은 계산 자원을 사용하고 싶다면, 우리는 단순히 원래 모델에서 네트워크를 작은 그리드만큼 늘릴 수 있다.'"
            ]
          },
          "execution_count": 51,
          "metadata": {},
          "output_type": "execute_result"
        }
      ],
      "source": [
        "summarize_and_translate(\"https://arxiv.org/pdf/1905.11946.pdf\", 100, 200)"
      ]
    }
  ],
  "metadata": {
    "colab": {
      "provenance": []
    },
    "kernelspec": {
      "display_name": "mlp",
      "language": "python",
      "name": "python3"
    },
    "language_info": {
      "codemirror_mode": {
        "name": "ipython",
        "version": 3
      },
      "file_extension": ".py",
      "mimetype": "text/x-python",
      "name": "python",
      "nbconvert_exporter": "python",
      "pygments_lexer": "ipython3",
      "version": "3.10.17"
    }
  },
  "nbformat": 4,
  "nbformat_minor": 5
}
