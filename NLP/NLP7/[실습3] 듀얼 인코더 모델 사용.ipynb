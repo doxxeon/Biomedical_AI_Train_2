{
  "cells": [
    {
      "cell_type": "markdown",
      "metadata": {
        "id": "3FqfD8BklO9c"
      },
      "source": [
        "# [실습3] 듀얼 인코더 모델 사용"
      ]
    },
    {
      "cell_type": "markdown",
      "metadata": {
        "id": "-36CnJ7ralMv"
      },
      "source": [
        "[케라스의 듀얼 인코더 자연어 이미지 탐색](https://keras.io/examples/nlp/nl_image_search/) 내용을 공부하여 정리합니다.\n",
        "\n",
        "- 이미지와 문장을 인코딩 하는 두 개의 인코더를 사용하는 모델 훈련\n",
        "- 문장을 이용하여 이미지 탐색. [OpenAI의 Clip](https://openai.com/blog/clip/)과 유사하게 작동."
      ]
    },
    {
      "cell_type": "code",
      "execution_count": 1,
      "metadata": {
        "id": "9reigRH2bZU6"
      },
      "outputs": [],
      "source": [
        "import tensorflow as tf\n",
        "from tensorflow import keras\n",
        "from tensorflow.keras import layers\n",
        "import numpy as np\n",
        "import matplotlib.pyplot as plt\n",
        "from sklearn.model_selection import train_test_split\n",
        "\n",
        "# 기타 설정\n",
        "import glob\n",
        "import cv2\n",
        "import os"
      ]
    },
    {
      "cell_type": "code",
      "execution_count": 2,
      "metadata": {
        "colab": {
          "base_uri": "https://localhost:8080/"
        },
        "id": "ka7B-FbbbaJv",
        "outputId": "520b6c1c-dfa6-4b2f-aba2-d27587bb58f7"
      },
      "outputs": [],
      "source": [
        "# Fashion-MNIST 데이터셋 로드\n",
        "(x_train, y_train), (x_test, y_test) = tf.keras.datasets.fashion_mnist.load_data()\n",
        "x_train, x_val, y_train, y_val = train_test_split(x_train, y_train, test_size=0.2, random_state=42)\n",
        "\n",
        "# 이미지 전처리\n",
        "x_train = np.expand_dims(x_train, -1).astype(\"float32\") / 255.0  # (28, 28, 1) 형태로 확장\n",
        "x_val = np.expand_dims(x_val, -1).astype(\"float32\") / 255.0\n",
        "x_test = np.expand_dims(x_test, -1).astype(\"float32\") / 255.0\n",
        "\n",
        "# 텍스트 데이터: Fashion-MNIST 클래스 라벨 이름\n",
        "fashion_mnist_classes = [\n",
        "    \"T-shirt/top\", \"Trouser\", \"Pullover\", \"Dress\", \"Coat\",\n",
        "    \"Sandal\", \"Shirt\", \"Sneaker\", \"Bag\", \"Ankle boot\"\n",
        "]\n",
        "\n",
        "# 캡션 생성\n",
        "text_train = [fashion_mnist_classes[int(label)] for label in y_train]\n",
        "text_val = [fashion_mnist_classes[int(label)] for label in y_val]\n",
        "text_test = [fashion_mnist_classes[int(label)] for label in y_test]\n"
      ]
    },
    {
      "cell_type": "code",
      "execution_count": 3,
      "metadata": {
        "id": "Rf0XftaZbdvS"
      },
      "outputs": [
        {
          "name": "stderr",
          "output_type": "stream",
          "text": [
            "2025-06-04 10:38:40.759705: I metal_plugin/src/device/metal_device.cc:1154] Metal device set to: Apple M3 Pro\n",
            "2025-06-04 10:38:40.759729: I metal_plugin/src/device/metal_device.cc:296] systemMemory: 18.00 GB\n",
            "2025-06-04 10:38:40.759732: I metal_plugin/src/device/metal_device.cc:313] maxCacheSize: 6.00 GB\n",
            "2025-06-04 10:38:40.759757: I tensorflow/core/common_runtime/pluggable_device/pluggable_device_factory.cc:303] Could not identify NUMA node of platform GPU ID 0, defaulting to 0. Your kernel may not have been built with NUMA support.\n",
            "2025-06-04 10:38:40.759768: I tensorflow/core/common_runtime/pluggable_device/pluggable_device_factory.cc:269] Created TensorFlow device (/job:localhost/replica:0/task:0/device:GPU:0 with 0 MB memory) -> physical PluggableDevice (device: 0, name: METAL, pci bus id: <undefined>)\n"
          ]
        }
      ],
      "source": [
        "def build_image_encoder():\n",
        "    base_model = keras.applications.ResNet50(include_top=False, input_shape=(224, 224, 3), weights=\"imagenet\")\n",
        "    base_model.trainable = False\n",
        "    inputs = keras.Input(shape=(28, 28, 1))\n",
        "    x = layers.UpSampling2D(size=(8, 8))(inputs)  # (28, 28) -> (224, 224)\n",
        "    x = layers.Concatenate()([x, x, x])  # 채널을 3으로 복제\n",
        "    x = base_model(x, training=False)\n",
        "    x = layers.GlobalAveragePooling2D()(x)\n",
        "    outputs = layers.Dense(128)(x)\n",
        "    return keras.Model(inputs, outputs, name=\"image_encoder\")\n",
        "\n",
        "image_encoder = build_image_encoder()\n"
      ]
    },
    {
      "cell_type": "code",
      "execution_count": 4,
      "metadata": {
        "id": "n3BUYHbObf3Q"
      },
      "outputs": [],
      "source": [
        "def build_text_encoder(vocab_size, embedding_dim, max_length):\n",
        "    inputs = keras.Input(shape=(max_length,))\n",
        "    x = layers.Embedding(input_dim=vocab_size, output_dim=embedding_dim, input_length=max_length)(inputs)\n",
        "    x = layers.Bidirectional(layers.LSTM(64))(x)\n",
        "    outputs = layers.Dense(128)(x)\n",
        "    return keras.Model(inputs, outputs, name=\"text_encoder\")\n",
        "\n",
        "# 텍스트 전처리\n",
        "tokenizer = keras.preprocessing.text.Tokenizer(num_words=10000)\n",
        "tokenizer.fit_on_texts(fashion_mnist_classes)\n",
        "\n",
        "text_train_seqs = tokenizer.texts_to_sequences(text_train)\n",
        "text_val_seqs = tokenizer.texts_to_sequences(text_val)\n",
        "text_test_seqs = tokenizer.texts_to_sequences(text_test)\n",
        "\n",
        "max_length = max(len(seq) for seq in text_train_seqs)\n",
        "\n",
        "text_train_padded = keras.preprocessing.sequence.pad_sequences(text_train_seqs, padding=\"post\", maxlen=max_length)\n",
        "text_val_padded = keras.preprocessing.sequence.pad_sequences(text_val_seqs, padding=\"post\", maxlen=max_length)\n",
        "text_test_padded = keras.preprocessing.sequence.pad_sequences(text_test_seqs, padding=\"post\", maxlen=max_length)\n",
        "\n",
        "text_encoder = build_text_encoder(vocab_size=10000, embedding_dim=128, max_length=max_length)\n"
      ]
    },
    {
      "cell_type": "code",
      "execution_count": 5,
      "metadata": {
        "id": "KPIOCnd2WEBn"
      },
      "outputs": [
        {
          "name": "stderr",
          "output_type": "stream",
          "text": [
            "WARNING:absl:At this time, the v2.11+ optimizer `tf.keras.optimizers.Adam` runs slowly on M1/M2 Macs, please use the legacy Keras optimizer instead, located at `tf.keras.optimizers.legacy.Adam`.\n"
          ]
        }
      ],
      "source": [
        "class ContrastiveModel(keras.Model):\n",
        "    def __init__(self, image_encoder, text_encoder, **kwargs):\n",
        "        super().__init__(**kwargs)\n",
        "        self.image_encoder = image_encoder\n",
        "        self.text_encoder = text_encoder\n",
        "        self.temperature = 0.1\n",
        "\n",
        "    def compile(self, optimizer, *args, **kwargs):\n",
        "        super().compile(*args, **kwargs)\n",
        "        self.optimizer = optimizer\n",
        "        self.loss_fn = keras.losses.SparseCategoricalCrossentropy(from_logits=True)\n",
        "\n",
        "    def call(self, inputs):\n",
        "        image_inputs, text_inputs = inputs\n",
        "        image_embeddings = self.image_encoder(image_inputs)\n",
        "        text_embeddings = self.text_encoder(text_inputs)\n",
        "        return image_embeddings, text_embeddings\n",
        "\n",
        "    def train_step(self, data):\n",
        "        (image_inputs, text_inputs), _ = data\n",
        "\n",
        "        with tf.GradientTape() as tape:\n",
        "            image_embeddings, text_embeddings = self((image_inputs, text_inputs))\n",
        "            logits = tf.matmul(image_embeddings, text_embeddings, transpose_b=True)\n",
        "            labels = tf.range(tf.shape(logits)[0])\n",
        "            loss = self.loss_fn(labels, logits / self.temperature)\n",
        "\n",
        "        gradients = tape.gradient(loss, self.trainable_variables)\n",
        "        self.optimizer.apply_gradients(zip(gradients, self.trainable_variables))\n",
        "\n",
        "        return {\"loss\": loss}\n",
        "\n",
        "contrastive_model = ContrastiveModel(image_encoder, text_encoder)\n",
        "contrastive_model.compile(optimizer=keras.optimizers.Adam())\n"
      ]
    },
    {
      "cell_type": "code",
      "execution_count": 6,
      "metadata": {
        "colab": {
          "base_uri": "https://localhost:8080/"
        },
        "id": "NALtspe-WHJb",
        "outputId": "7b0e51a6-6b43-402a-eebe-6eafdeb98fad"
      },
      "outputs": [
        {
          "name": "stdout",
          "output_type": "stream",
          "text": [
            "Epoch 1/10\n"
          ]
        },
        {
          "name": "stderr",
          "output_type": "stream",
          "text": [
            "2025-06-04 10:38:43.958369: I tensorflow/core/grappler/optimizers/custom_graph_optimizer_registry.cc:114] Plugin optimizer for device_type GPU is enabled.\n",
            "2025-06-04 10:38:44.100368: E tensorflow/core/grappler/optimizers/meta_optimizer.cc:954] model_pruner failed: INVALID_ARGUMENT: Graph does not contain terminal node Adam/AssignAddVariableOp.\n",
            "2025-06-04 10:38:44.461410: I tensorflow/core/grappler/optimizers/custom_graph_optimizer_registry.cc:114] Plugin optimizer for device_type GPU is enabled.\n",
            "2025-06-04 10:38:44.490064: I tensorflow/core/grappler/optimizers/custom_graph_optimizer_registry.cc:114] Plugin optimizer for device_type GPU is enabled.\n",
            "2025-06-04 10:38:45.490031: I tensorflow/core/grappler/optimizers/custom_graph_optimizer_registry.cc:114] Plugin optimizer for device_type GPU is enabled.\n",
            "2025-06-04 10:38:45.508709: I tensorflow/core/grappler/optimizers/custom_graph_optimizer_registry.cc:114] Plugin optimizer for device_type GPU is enabled.\n"
          ]
        },
        {
          "name": "stdout",
          "output_type": "stream",
          "text": [
            "1500/1500 [==============================] - ETA: 0s - loss: 2.1278"
          ]
        },
        {
          "name": "stderr",
          "output_type": "stream",
          "text": [
            "2025-06-04 10:42:06.266868: I tensorflow/core/grappler/optimizers/custom_graph_optimizer_registry.cc:114] Plugin optimizer for device_type GPU is enabled.\n"
          ]
        },
        {
          "name": "stdout",
          "output_type": "stream",
          "text": [
            "1500/1500 [==============================] - 204s 134ms/step - loss: 2.1278 - val_loss: 0.0000e+00\n",
            "Epoch 2/10\n",
            "1500/1500 [==============================] - 200s 134ms/step - loss: 0.0000e+00 - val_loss: 0.0000e+00\n",
            "Epoch 3/10\n",
            "1500/1500 [==============================] - 201s 134ms/step - loss: 0.0000e+00 - val_loss: 0.0000e+00\n",
            "Epoch 4/10\n",
            "1500/1500 [==============================] - 198s 132ms/step - loss: 0.0000e+00 - val_loss: 0.0000e+00\n",
            "Epoch 5/10\n",
            "1500/1500 [==============================] - 199s 133ms/step - loss: 0.0000e+00 - val_loss: 0.0000e+00\n",
            "Epoch 6/10\n",
            "1500/1500 [==============================] - 200s 133ms/step - loss: 0.0000e+00 - val_loss: 0.0000e+00\n",
            "Epoch 7/10\n",
            "1500/1500 [==============================] - 198s 132ms/step - loss: 0.0000e+00 - val_loss: 0.0000e+00\n",
            "Epoch 8/10\n",
            "1500/1500 [==============================] - 195s 130ms/step - loss: 0.0000e+00 - val_loss: 0.0000e+00\n",
            "Epoch 9/10\n",
            "1500/1500 [==============================] - 195s 130ms/step - loss: 0.0000e+00 - val_loss: 0.0000e+00\n",
            "Epoch 10/10\n",
            "1500/1500 [==============================] - 197s 131ms/step - loss: 0.0000e+00 - val_loss: 0.0000e+00\n"
          ]
        }
      ],
      "source": [
        "# 훈련 데이터 준비\n",
        "train_dataset = tf.data.Dataset.from_tensor_slices(((x_train, text_train_padded), y_train)).batch(32)\n",
        "val_dataset = tf.data.Dataset.from_tensor_slices(((x_val, text_val_padded), y_val)).batch(32)\n",
        "\n",
        "# 모델 훈련\n",
        "history = contrastive_model.fit(train_dataset, validation_data=val_dataset, epochs=10)\n"
      ]
    },
    {
      "cell_type": "code",
      "execution_count": 7,
      "metadata": {
        "id": "BKigUmsxZtdi"
      },
      "outputs": [],
      "source": [
        "# 이미지 검색 함수와 함께 코사인 유사도 계산\n",
        "def cosine_similarity(a, b):\n",
        "    dot_product = np.dot(a, b)\n",
        "    norm_a = np.linalg.norm(a)\n",
        "    norm_b = np.linalg.norm(b)\n",
        "    return dot_product / (norm_a * norm_b)"
      ]
    },
    {
      "cell_type": "code",
      "execution_count": 8,
      "metadata": {
        "colab": {
          "base_uri": "https://localhost:8080/",
          "height": 458
        },
        "id": "oOOHZ1fLWKRe",
        "outputId": "ad405dc5-8835-42dc-e9dc-19a6ac3c227b"
      },
      "outputs": [
        {
          "name": "stderr",
          "output_type": "stream",
          "text": [
            "2025-06-04 11:11:50.296943: I tensorflow/core/grappler/optimizers/custom_graph_optimizer_registry.cc:114] Plugin optimizer for device_type GPU is enabled.\n",
            "2025-06-04 11:11:50.465382: I tensorflow/core/grappler/optimizers/custom_graph_optimizer_registry.cc:114] Plugin optimizer for device_type GPU is enabled.\n",
            "2025-06-04 11:11:50.474966: I tensorflow/core/grappler/optimizers/custom_graph_optimizer_registry.cc:114] Plugin optimizer for device_type GPU is enabled.\n"
          ]
        },
        {
          "name": "stdout",
          "output_type": "stream",
          "text": [
            "1/1 [==============================] - 1s 839ms/step\n"
          ]
        },
        {
          "name": "stderr",
          "output_type": "stream",
          "text": [
            "2025-06-04 11:11:51.164079: I tensorflow/core/grappler/optimizers/custom_graph_optimizer_registry.cc:114] Plugin optimizer for device_type GPU is enabled.\n"
          ]
        },
        {
          "name": "stdout",
          "output_type": "stream",
          "text": [
            "313/313 [==============================] - 39s 124ms/step\n"
          ]
        },
        {
          "data": {
            "image/png": "[encoded data removed]",
            "text/plain": [
              "<Figure size 1500x1000 with 5 Axes>"
            ]
          },
          "metadata": {},
          "output_type": "display_data"
        }
      ],
      "source": [
        "def find_top_k_images(image_encoder, text_encoder, query_text, k=5):\n",
        "    text_sequence = tokenizer.texts_to_sequences([query_text])\n",
        "    text_padded = keras.preprocessing.sequence.pad_sequences(text_sequence, padding=\"post\", maxlen=max_length)\n",
        "\n",
        "    # 텍스트 임베딩 얻기\n",
        "    text_embedding = text_encoder.predict(text_padded)\n",
        "\n",
        "    # 모든 이미지 임베딩 얻기\n",
        "    image_embeddings = image_encoder.predict(x_test)\n",
        "\n",
        "    # 코사인 유사도 계산\n",
        "    similarities = [cosine_similarity(image_embedding, text_embedding[0]) for image_embedding in image_embeddings]\n",
        "\n",
        "    # 가장 유사한 k개의 이미지 선택\n",
        "    top_k_indices = np.argsort(similarities)[-k:][::-1]\n",
        "    return x_test[top_k_indices], np.array(similarities)[top_k_indices]\n",
        "\n",
        "# \"Dress\" 쿼리 텍스트로 검색\n",
        "query_text = \"Dress\"\n",
        "matched_images, similarities = find_top_k_images(image_encoder, text_encoder, query_text, k=5)\n",
        "\n",
        "# 이미지와 코사인 유사도 출력\n",
        "plt.figure(figsize=(15, 10))\n",
        "for i in range(len(matched_images)):\n",
        "    plt.subplot(1, 5, i+1)\n",
        "    plt.imshow(np.squeeze(matched_images[i]), cmap=\"gray\")\n",
        "    plt.title(f\"Sim: {similarities[i]:.4f}\")\n",
        "    plt.axis(\"off\")\n",
        "\n",
        "plt.suptitle(f\"Top 5 matches for query: '{query_text}'\")\n",
        "plt.show()\n"
      ]
    }
  ],
  "metadata": {
    "accelerator": "GPU",
    "colab": {
      "gpuType": "T4",
      "provenance": []
    },
    "kernelspec": {
      "display_name": "tf-mac",
      "language": "python",
      "name": "python3"
    },
    "language_info": {
      "codemirror_mode": {
        "name": "ipython",
        "version": 3
      },
      "file_extension": ".py",
      "mimetype": "text/x-python",
      "name": "python",
      "nbconvert_exporter": "python",
      "pygments_lexer": "ipython3",
      "version": "3.8.20"
    }
  },
  "nbformat": 4,
  "nbformat_minor": 0
}
