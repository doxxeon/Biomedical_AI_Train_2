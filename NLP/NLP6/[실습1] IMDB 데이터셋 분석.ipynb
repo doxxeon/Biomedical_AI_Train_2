{
 "cells": [
  {
   "cell_type": "markdown",
   "metadata": {
    "id": "__8Rz_jhbwjJ"
   },
   "source": [
    "# [실습] IMDB 데이터셋 분석"
   ]
  },
  {
   "cell_type": "markdown",
   "metadata": {
    "id": "W1t-iFkibwjM"
   },
   "source": [
    "GPU 설정\n",
    "\n",
    "\n",
    "코랩을 활용한다면,\n",
    "'런타임 -> 런타임 유형 변경' 메뉴에서 GPU를 지정한다.\n",
    "TensorFlow 버전을 확인하려면 아래 명령문을 실행한다."
   ]
  },
  {
   "cell_type": "code",
   "execution_count": 1,
   "metadata": {
    "id": "mg_aW3SFbwjM",
    "outputId": "c5881908-afec-4fe5-f567-eee3be2b730e"
   },
   "outputs": [
    {
     "name": "stdout",
     "output_type": "stream",
     "text": [
      "2.13.0\n"
     ]
    }
   ],
   "source": [
    "import tensorflow as tf\n",
    "print(tf.__version__)"
   ]
  },
  {
   "cell_type": "markdown",
   "metadata": {
    "id": "jKMyJrdFbwjN"
   },
   "source": [
    "TensorFlow가 GPU를 사용하는지 여부를 확인하려면 아래 명령문을 실행한다.\n",
    "아래와 같은 결과가 나오면 GPU가 제대로 지원됨을 의미한다.\n",
    "\n",
    "```\n",
    "[PhysicalDevice(name='/physical_device:GPU:0', device_type='GPU')]\n",
    "```"
   ]
  },
  {
   "cell_type": "code",
   "execution_count": 2,
   "metadata": {
    "id": "FQL-t-yNbwjO",
    "outputId": "c1d106b7-4932-4b1f-81df-4a88d934f7ae"
   },
   "outputs": [
    {
     "data": {
      "text/plain": [
       "[PhysicalDevice(name='/physical_device:GPU:0', device_type='GPU')]"
      ]
     },
     "execution_count": 2,
     "metadata": {},
     "output_type": "execute_result"
    }
   ],
   "source": [
    "tf.config.list_physical_devices('GPU')"
   ]
  },
  {
   "cell_type": "markdown",
   "metadata": {
    "id": "3URiZZujbwjP"
   },
   "source": [
    "**IMDB 데이터셋**"
   ]
  },
  {
   "cell_type": "code",
   "execution_count": 3,
   "metadata": {
    "id": "g-8OnAcNbwjP"
   },
   "outputs": [],
   "source": [
    "from tensorflow.keras.datasets import imdb\n",
    "\n",
    "(train_data, train_labels), (test_data, test_labels) = imdb.load_data(num_words=10000)"
   ]
  },
  {
   "cell_type": "markdown",
   "metadata": {
    "id": "B-p5_0E8bwjP"
   },
   "source": [
    "훈련셋, 테스트셋의 크기 모두 25,000이다."
   ]
  },
  {
   "cell_type": "code",
   "execution_count": 4,
   "metadata": {
    "id": "tvrcWMlebwjP",
    "outputId": "3560f56d-24dd-4c83-d4db-288817e09470"
   },
   "outputs": [
    {
     "data": {
      "text/plain": [
       "25000"
      ]
     },
     "execution_count": 4,
     "metadata": {},
     "output_type": "execute_result"
    }
   ],
   "source": [
    "len(train_data)"
   ]
  },
  {
   "cell_type": "code",
   "execution_count": 5,
   "metadata": {
    "id": "1_tUR4KCbwjP",
    "outputId": "86c26ec6-8603-4342-b5e8-88a819e2385a"
   },
   "outputs": [
    {
     "data": {
      "text/plain": [
       "25000"
      ]
     },
     "execution_count": 5,
     "metadata": {},
     "output_type": "execute_result"
    }
   ],
   "source": [
    "len(test_data)"
   ]
  },
  {
   "cell_type": "markdown",
   "metadata": {
    "id": "m3L3fIRFbwjQ"
   },
   "source": [
    "각 샘플은 `num_words=10000`에 의해 1~9999 사이의 정수로 이루어진 리스트이다.\n",
    "최솟값은 1, 최댓값은 9999임은 아래와 같이 확인한다."
   ]
  },
  {
   "cell_type": "code",
   "execution_count": 6,
   "metadata": {
    "id": "LZHUxnELbwjQ",
    "outputId": "57a19ec9-5563-41ec-cbdd-9b5b2a55b757"
   },
   "outputs": [
    {
     "data": {
      "text/plain": [
       "1"
      ]
     },
     "execution_count": 6,
     "metadata": {},
     "output_type": "execute_result"
    }
   ],
   "source": [
    "min([min(sequence) for sequence in train_data])"
   ]
  },
  {
   "cell_type": "code",
   "execution_count": 7,
   "metadata": {
    "id": "K6GIICC8bwjQ",
    "outputId": "fca92ceb-7b84-425d-9f99-d7983a85592c"
   },
   "outputs": [
    {
     "data": {
      "text/plain": [
       "9999"
      ]
     },
     "execution_count": 7,
     "metadata": {},
     "output_type": "execute_result"
    }
   ],
   "source": [
    "max([max(sequence) for sequence in train_data])"
   ]
  },
  {
   "cell_type": "markdown",
   "metadata": {
    "id": "45k6L70ubwjQ"
   },
   "source": [
    "샘플들의 크기는 서로 다르다."
   ]
  },
  {
   "cell_type": "code",
   "execution_count": 8,
   "metadata": {
    "id": "g5SgkjIubwjQ",
    "outputId": "f2cc9af8-c627-4660-af5a-f481b7713eb9"
   },
   "outputs": [
    {
     "data": {
      "text/plain": [
       "218"
      ]
     },
     "execution_count": 8,
     "metadata": {},
     "output_type": "execute_result"
    }
   ],
   "source": [
    "len(train_data[0])"
   ]
  },
  {
   "cell_type": "code",
   "execution_count": 9,
   "metadata": {
    "id": "-3HQhtiibwjQ",
    "outputId": "bbd5d9e9-563e-4bad-9a9e-445a9167822b"
   },
   "outputs": [
    {
     "data": {
      "text/plain": [
       "189"
      ]
     },
     "execution_count": 9,
     "metadata": {},
     "output_type": "execute_result"
    }
   ],
   "source": [
    "len(train_data[1])"
   ]
  },
  {
   "cell_type": "markdown",
   "metadata": {
    "id": "yTomRz9DbwjQ"
   },
   "source": [
    "0번 샘플의 처음 10개 값은 다음과 같다."
   ]
  },
  {
   "cell_type": "code",
   "execution_count": 10,
   "metadata": {
    "id": "zu_5gsuTbwjR",
    "outputId": "23a8697a-5e56-4519-b14a-427938950b11"
   },
   "outputs": [
    {
     "data": {
      "text/plain": [
       "[1, 14, 22, 16, 43, 530, 973, 1622, 1385, 65]"
      ]
     },
     "execution_count": 10,
     "metadata": {},
     "output_type": "execute_result"
    }
   ],
   "source": [
    "train_data[0][:10]"
   ]
  },
  {
   "cell_type": "markdown",
   "metadata": {
    "id": "3LGBbCdgbwjR"
   },
   "source": [
    "각 샘플의 레이블은 0(부정) 또는 1(긍정)이다."
   ]
  },
  {
   "cell_type": "code",
   "execution_count": 11,
   "metadata": {
    "id": "jGXO90NsbwjR",
    "outputId": "bfda7443-6934-4bb8-d200-4a05514ec5cf"
   },
   "outputs": [
    {
     "data": {
      "text/plain": [
       "1"
      ]
     },
     "execution_count": 11,
     "metadata": {},
     "output_type": "execute_result"
    }
   ],
   "source": [
    "train_labels[0]"
   ]
  },
  {
   "cell_type": "code",
   "execution_count": 12,
   "metadata": {
    "id": "FIiVR1gLbwjR",
    "outputId": "aef6eaa4-e847-40f6-9f3c-36158713019b"
   },
   "outputs": [
    {
     "data": {
      "text/plain": [
       "0"
      ]
     },
     "execution_count": 12,
     "metadata": {},
     "output_type": "execute_result"
    }
   ],
   "source": [
    "test_labels[0]"
   ]
  },
  {
   "cell_type": "markdown",
   "metadata": {
    "id": "ST-uOkh-bwjR"
   },
   "source": [
    "**_영화 후기 내용_**"
   ]
  },
  {
   "cell_type": "markdown",
   "metadata": {
    "id": "EZVux2DcbwjR"
   },
   "source": [
    "후기 분류를 위해 반드시 필요한 과정은 아니지만\n",
    "원한다면 후기의 내용을 확인할 수 있다.\n",
    "그러기 위해 정수와 단어 사이의 관계를 담은 사전 객체 가져온다."
   ]
  },
  {
   "cell_type": "code",
   "execution_count": 13,
   "metadata": {
    "id": "tC3NVtw8bwjR"
   },
   "outputs": [
    {
     "name": "stdout",
     "output_type": "stream",
     "text": [
      "Downloading data from https://storage.googleapis.com/tensorflow/tf-keras-datasets/imdb_word_index.json\n",
      "1641221/1641221 [==============================] - 0s 0us/step\n"
     ]
    }
   ],
   "source": [
    "word_index = imdb.get_word_index()"
   ]
  },
  {
   "cell_type": "markdown",
   "metadata": {
    "id": "opsOXcacbwjR"
   },
   "source": [
    "`word_index`에 포함된 10개 항목을 확인하면 다음과 같다."
   ]
  },
  {
   "cell_type": "code",
   "execution_count": 14,
   "metadata": {
    "id": "MUfnf8bZbwjR",
    "outputId": "8d7cd6aa-e219-4454-83ee-8db45edb5fd8"
   },
   "outputs": [
    {
     "name": "stdout",
     "output_type": "stream",
     "text": [
      "('fawn', 34701)\n",
      "('tsukino', 52006)\n",
      "('nunnery', 52007)\n",
      "('sonja', 16816)\n",
      "('vani', 63951)\n",
      "('woods', 1408)\n",
      "('spiders', 16115)\n",
      "('hanging', 2345)\n",
      "('woody', 2289)\n",
      "('trawling', 52008)\n"
     ]
    }
   ],
   "source": [
    "for item in list(word_index.items())[:10]:\n",
    "    print(item)"
   ]
  },
  {
   "cell_type": "markdown",
   "metadata": {
    "id": "7Fu9i_2LbwjR"
   },
   "source": [
    "정수와 단어의 관계를 서로 바꾼다."
   ]
  },
  {
   "cell_type": "code",
   "execution_count": 15,
   "metadata": {
    "id": "LMNb9FLqbwjR"
   },
   "outputs": [],
   "source": [
    "reverse_word_index = dict([(value, key) for (key, value) in word_index.items()])"
   ]
  },
  {
   "cell_type": "markdown",
   "metadata": {
    "id": "eJTgOPPFbwjS"
   },
   "source": [
    "`reverse_word_index`에 포함된 10개 항목을 확인하면 다음과 같다."
   ]
  },
  {
   "cell_type": "code",
   "execution_count": 16,
   "metadata": {
    "id": "ft7lTA49bwjS",
    "outputId": "f0fc9adb-1b75-4b31-859c-10166d478d90"
   },
   "outputs": [
    {
     "name": "stdout",
     "output_type": "stream",
     "text": [
      "(34701, 'fawn')\n",
      "(52006, 'tsukino')\n",
      "(52007, 'nunnery')\n",
      "(16816, 'sonja')\n",
      "(63951, 'vani')\n",
      "(1408, 'woods')\n",
      "(16115, 'spiders')\n",
      "(2345, 'hanging')\n",
      "(2289, 'woody')\n",
      "(52008, 'trawling')\n"
     ]
    }
   ],
   "source": [
    "for item in list(reverse_word_index.items())[:10]:\n",
    "    print(item)"
   ]
  },
  {
   "cell_type": "markdown",
   "metadata": {
    "id": "T54XMikXbwjS"
   },
   "source": [
    "첫째 리뷰 내용을 아래와 같이 확인할 수 있다.\n",
    "그런데 단어 인덱스에서 3을 빼야 한다.\n",
    "이유는 0, 1, 2 인덱스는 각각 여백, 문장 시작, 불분명을 의미하기 때문이다."
   ]
  },
  {
   "cell_type": "code",
   "execution_count": 17,
   "metadata": {
    "id": "dW8W0-1lbwjS",
    "outputId": "400b6c0d-0b16-4178-e44b-54af194a023d"
   },
   "outputs": [
    {
     "data": {
      "text/plain": [
       "\"? this film was just brilliant casting location scenery story direction everyone's really suited the part they played and you could just imagine being there robert ? is an amazing actor and now the same being director ? father came from the same scottish island as myself so i loved the fact there was a real connection with this film the witty remarks throughout the film were great it was just brilliant so much that i bought the film as soon as it was released for ? and would recommend it to everyone to watch and the fly fishing was amazing really cried at the end it was so sad and you know what they say if you cry at a film it must have been good and this definitely was also ? to the two little boy's that played the ? of norman and paul they were just brilliant children are often left out of the ? list i think because the stars that play them all grown up are such a big profile for the whole film but these children are amazing and should be praised for what they have done don't you think the whole story was so lovely because it was true and was someone's life after all that was shared with us all\""
      ]
     },
     "execution_count": 17,
     "metadata": {},
     "output_type": "execute_result"
    }
   ],
   "source": [
    "first_review = train_data[0]\n",
    "\n",
    "decoded_review = \" \".join(\n",
    "    [reverse_word_index.get(i-3, \"?\") for i in first_review])\n",
    "\n",
    "decoded_review"
   ]
  },
  {
   "cell_type": "markdown",
   "metadata": {
    "id": "2R5iGUv-bwjS"
   },
   "source": [
    "**데이터 전처리: 벡터화, 멀티-핫-인코딩**"
   ]
  },
  {
   "cell_type": "markdown",
   "metadata": {
    "id": "Qi0GBNUkbwjS"
   },
   "source": [
    "멀티-핫-인코딩을 이용한 벡터화를 진행하는 함수다."
   ]
  },
  {
   "cell_type": "code",
   "execution_count": 18,
   "metadata": {
    "id": "HrPpw8i1bwjS"
   },
   "outputs": [],
   "source": [
    "import numpy as np\n",
    "\n",
    "def vectorize_sequences(sequences, dimension=10000):\n",
    "    results = np.zeros((len(sequences), dimension))\n",
    "\n",
    "    for i, seq in enumerate(sequences):    # 모든 샘플에 대한 멀티-핫-인코딩\n",
    "        for j in seq:\n",
    "            results[i, j] = 1.\n",
    "    return results"
   ]
  },
  {
   "cell_type": "markdown",
   "metadata": {
    "id": "sOSMJZkEbwjS"
   },
   "source": [
    "훈련셋과 테스트셋를 벡터화한다."
   ]
  },
  {
   "cell_type": "code",
   "execution_count": 19,
   "metadata": {
    "id": "3tUMpNWrbwjV"
   },
   "outputs": [],
   "source": [
    "x_train = vectorize_sequences(train_data).astype(\"float32\")\n",
    "x_test = vectorize_sequences(test_data).astype(\"float32\")"
   ]
  },
  {
   "cell_type": "markdown",
   "metadata": {
    "id": "rQSfMf3TbwjW"
   },
   "source": [
    "첫째 훈련 샘플의 변환 결과는 다음과 같다.\n",
    "결과를 보면 원래의 첫째 훈련 샘플에 0은 포함되지 않았지만 1과 2는 사용되었음을 알 수 있다."
   ]
  },
  {
   "cell_type": "code",
   "execution_count": 20,
   "metadata": {
    "id": "KajbF2WKbwjW",
    "outputId": "5ae2011d-f451-4ad2-92ca-e4cce742dd10"
   },
   "outputs": [
    {
     "data": {
      "text/plain": [
       "array([0., 1., 1., ..., 0., 0., 0.], dtype=float32)"
      ]
     },
     "execution_count": 20,
     "metadata": {},
     "output_type": "execute_result"
    }
   ],
   "source": [
    "x_train[0]"
   ]
  },
  {
   "cell_type": "markdown",
   "metadata": {
    "id": "dxQGz1mnbwjW"
   },
   "source": [
    "실제로 확인해보면 다음과 같다."
   ]
  },
  {
   "cell_type": "code",
   "execution_count": 21,
   "metadata": {
    "id": "Xm-WjNW1bwjW",
    "outputId": "3d599b7b-6a3a-44eb-cd2b-7261f9697150"
   },
   "outputs": [
    {
     "data": {
      "text/plain": [
       "False"
      ]
     },
     "execution_count": 21,
     "metadata": {},
     "output_type": "execute_result"
    }
   ],
   "source": [
    "0 in train_data[0]"
   ]
  },
  {
   "cell_type": "code",
   "execution_count": 22,
   "metadata": {
    "id": "lfbum51-bwjW",
    "outputId": "71935588-9c8d-4ce4-f80f-2dd758c10317"
   },
   "outputs": [
    {
     "data": {
      "text/plain": [
       "True"
      ]
     },
     "execution_count": 22,
     "metadata": {},
     "output_type": "execute_result"
    }
   ],
   "source": [
    "1 in train_data[0]"
   ]
  },
  {
   "cell_type": "code",
   "execution_count": 23,
   "metadata": {
    "id": "iU__KU3fbwjW",
    "outputId": "6731712e-23c4-47a1-b5ab-5d0732ebbf78"
   },
   "outputs": [
    {
     "data": {
      "text/plain": [
       "True"
      ]
     },
     "execution_count": 23,
     "metadata": {},
     "output_type": "execute_result"
    }
   ],
   "source": [
    "2 in train_data[0]"
   ]
  },
  {
   "cell_type": "markdown",
   "metadata": {
    "id": "vmR_KmVybwjW"
   },
   "source": [
    "레이블 또한 정수 자료형에서 `float32` 자료형으로 변환해서 자료형을 일치시킨다."
   ]
  },
  {
   "cell_type": "code",
   "execution_count": 24,
   "metadata": {
    "id": "bTmAEnBbbwjW"
   },
   "outputs": [],
   "source": [
    "y_train = np.asarray(train_labels).astype(\"float32\")\n",
    "y_test = np.asarray(test_labels).astype(\"float32\")"
   ]
  },
  {
   "cell_type": "code",
   "execution_count": 25,
   "metadata": {
    "id": "3BdQdWyCbwjW",
    "outputId": "aec39249-b03a-4fbf-ca64-2df1a3ded70a"
   },
   "outputs": [
    {
     "data": {
      "text/plain": [
       "array([1., 0., 0., ..., 0., 1., 0.], dtype=float32)"
      ]
     },
     "execution_count": 25,
     "metadata": {},
     "output_type": "execute_result"
    }
   ],
   "source": [
    "y_train"
   ]
  },
  {
   "cell_type": "code",
   "execution_count": 26,
   "metadata": {
    "id": "WQoNcc6YbwjX",
    "outputId": "9ddc68d1-8337-404f-8483-20a896ace91b"
   },
   "outputs": [
    {
     "data": {
      "text/plain": [
       "array([0., 1., 1., ..., 0., 0., 0.], dtype=float32)"
      ]
     },
     "execution_count": 26,
     "metadata": {},
     "output_type": "execute_result"
    }
   ],
   "source": [
    "y_test"
   ]
  },
  {
   "cell_type": "markdown",
   "metadata": {
    "id": "xr7CSg61bwjX"
   },
   "source": [
    "**모델 구성**"
   ]
  },
  {
   "cell_type": "code",
   "execution_count": 27,
   "metadata": {
    "id": "zrq8KTPZbwjX"
   },
   "outputs": [
    {
     "name": "stderr",
     "output_type": "stream",
     "text": [
      "2025-06-02 10:14:06.722625: I metal_plugin/src/device/metal_device.cc:1154] Metal device set to: Apple M3 Pro\n",
      "2025-06-02 10:14:06.722659: I metal_plugin/src/device/metal_device.cc:296] systemMemory: 18.00 GB\n",
      "2025-06-02 10:14:06.722671: I metal_plugin/src/device/metal_device.cc:313] maxCacheSize: 6.00 GB\n",
      "2025-06-02 10:14:06.723084: I tensorflow/core/common_runtime/pluggable_device/pluggable_device_factory.cc:303] Could not identify NUMA node of platform GPU ID 0, defaulting to 0. Your kernel may not have been built with NUMA support.\n",
      "2025-06-02 10:14:06.723404: I tensorflow/core/common_runtime/pluggable_device/pluggable_device_factory.cc:269] Created TensorFlow device (/job:localhost/replica:0/task:0/device:GPU:0 with 0 MB memory) -> physical PluggableDevice (device: 0, name: METAL, pci bus id: <undefined>)\n"
     ]
    }
   ],
   "source": [
    "from tensorflow import keras\n",
    "from tensorflow.keras import layers\n",
    "\n",
    "model = keras.Sequential([\n",
    "    layers.Dense(16, activation=\"relu\"),\n",
    "    layers.Dense(16, activation=\"relu\"),\n",
    "    layers.Dense(1, activation=\"sigmoid\")\n",
    "])"
   ]
  },
  {
   "cell_type": "markdown",
   "metadata": {
    "id": "28gbcWr5bwjX"
   },
   "source": [
    "**모델 컴파일**"
   ]
  },
  {
   "cell_type": "code",
   "execution_count": 29,
   "metadata": {
    "id": "7RAf8q57bwjX"
   },
   "outputs": [],
   "source": [
    "model.compile(optimizer=\"rmsprop\",\n",
    "              loss=\"binary_crossentropy\",\n",
    "              metrics=[\"accuracy\"])"
   ]
  },
  {
   "cell_type": "markdown",
   "metadata": {
    "id": "PJ_cN8XWbwjX"
   },
   "source": [
    "**모델 훈련**"
   ]
  },
  {
   "cell_type": "code",
   "execution_count": 30,
   "metadata": {
    "id": "5bwSMYJhbwjX"
   },
   "outputs": [],
   "source": [
    "# 검증 세트\n",
    "x_val = x_train[:10000]\n",
    "y_val = y_train[:10000]\n",
    "\n",
    "# 훈련셋\n",
    "partial_x_train = x_train[10000:]\n",
    "partial_y_train = y_train[10000:]"
   ]
  },
  {
   "cell_type": "code",
   "execution_count": 31,
   "metadata": {
    "id": "-qr1IRqvbwjX",
    "outputId": "d96da82b-9f94-4761-f5e5-515de21a9060"
   },
   "outputs": [
    {
     "name": "stdout",
     "output_type": "stream",
     "text": [
      "Epoch 1/20\n"
     ]
    },
    {
     "name": "stderr",
     "output_type": "stream",
     "text": [
      "2025-06-02 10:14:14.994838: I tensorflow/core/grappler/optimizers/custom_graph_optimizer_registry.cc:114] Plugin optimizer for device_type GPU is enabled.\n"
     ]
    },
    {
     "name": "stdout",
     "output_type": "stream",
     "text": [
      "30/30 [==============================] - ETA: 0s - loss: 0.5459 - accuracy: 0.7599"
     ]
    },
    {
     "name": "stderr",
     "output_type": "stream",
     "text": [
      "2025-06-02 10:14:16.188340: I tensorflow/core/grappler/optimizers/custom_graph_optimizer_registry.cc:114] Plugin optimizer for device_type GPU is enabled.\n"
     ]
    },
    {
     "name": "stdout",
     "output_type": "stream",
     "text": [
      "30/30 [==============================] - 2s 31ms/step - loss: 0.5459 - accuracy: 0.7599 - val_loss: 0.4291 - val_accuracy: 0.8475\n",
      "Epoch 2/20\n",
      "30/30 [==============================] - 0s 9ms/step - loss: 0.3416 - accuracy: 0.8939 - val_loss: 0.3359 - val_accuracy: 0.8725\n",
      "Epoch 3/20\n",
      "30/30 [==============================] - 0s 9ms/step - loss: 0.2460 - accuracy: 0.9234 - val_loss: 0.2831 - val_accuracy: 0.8900\n",
      "Epoch 4/20\n",
      "30/30 [==============================] - 0s 9ms/step - loss: 0.1925 - accuracy: 0.9381 - val_loss: 0.3044 - val_accuracy: 0.8764\n",
      "Epoch 5/20\n",
      "30/30 [==============================] - 0s 9ms/step - loss: 0.1532 - accuracy: 0.9521 - val_loss: 0.2778 - val_accuracy: 0.8890\n",
      "Epoch 6/20\n",
      "30/30 [==============================] - 0s 9ms/step - loss: 0.1286 - accuracy: 0.9594 - val_loss: 0.2906 - val_accuracy: 0.8866\n",
      "Epoch 7/20\n",
      "30/30 [==============================] - 0s 9ms/step - loss: 0.1061 - accuracy: 0.9689 - val_loss: 0.3115 - val_accuracy: 0.8818\n",
      "Epoch 8/20\n",
      "30/30 [==============================] - 0s 9ms/step - loss: 0.0894 - accuracy: 0.9745 - val_loss: 0.3369 - val_accuracy: 0.8800\n",
      "Epoch 9/20\n",
      "30/30 [==============================] - 0s 9ms/step - loss: 0.0738 - accuracy: 0.9810 - val_loss: 0.3918 - val_accuracy: 0.8740\n",
      "Epoch 10/20\n",
      "30/30 [==============================] - 0s 9ms/step - loss: 0.0668 - accuracy: 0.9824 - val_loss: 0.3980 - val_accuracy: 0.8735\n",
      "Epoch 11/20\n",
      "30/30 [==============================] - 0s 9ms/step - loss: 0.0539 - accuracy: 0.9871 - val_loss: 0.4226 - val_accuracy: 0.8764\n",
      "Epoch 12/20\n",
      "30/30 [==============================] - 0s 9ms/step - loss: 0.0467 - accuracy: 0.9898 - val_loss: 0.4521 - val_accuracy: 0.8732\n",
      "Epoch 13/20\n",
      "30/30 [==============================] - 0s 9ms/step - loss: 0.0397 - accuracy: 0.9918 - val_loss: 0.5114 - val_accuracy: 0.8647\n",
      "Epoch 14/20\n",
      "30/30 [==============================] - 0s 9ms/step - loss: 0.0340 - accuracy: 0.9930 - val_loss: 0.5663 - val_accuracy: 0.8609\n",
      "Epoch 15/20\n",
      "30/30 [==============================] - 0s 9ms/step - loss: 0.0263 - accuracy: 0.9953 - val_loss: 0.6021 - val_accuracy: 0.8638\n",
      "Epoch 16/20\n",
      "30/30 [==============================] - 0s 9ms/step - loss: 0.0240 - accuracy: 0.9951 - val_loss: 0.6046 - val_accuracy: 0.8652\n",
      "Epoch 17/20\n",
      "30/30 [==============================] - 0s 9ms/step - loss: 0.0201 - accuracy: 0.9963 - val_loss: 0.6356 - val_accuracy: 0.8667\n",
      "Epoch 18/20\n",
      "30/30 [==============================] - 0s 9ms/step - loss: 0.0143 - accuracy: 0.9981 - val_loss: 0.6770 - val_accuracy: 0.8647\n",
      "Epoch 19/20\n",
      "30/30 [==============================] - 0s 9ms/step - loss: 0.0157 - accuracy: 0.9972 - val_loss: 0.7230 - val_accuracy: 0.8634\n",
      "Epoch 20/20\n",
      "30/30 [==============================] - 0s 9ms/step - loss: 0.0102 - accuracy: 0.9984 - val_loss: 0.7647 - val_accuracy: 0.8641\n"
     ]
    }
   ],
   "source": [
    "history = model.fit(partial_x_train,\n",
    "                    partial_y_train,\n",
    "                    epochs=20,\n",
    "                    batch_size=512,\n",
    "                    validation_data=(x_val, y_val))"
   ]
  },
  {
   "cell_type": "markdown",
   "metadata": {
    "id": "kVsFL8QqbwjX"
   },
   "source": [
    "**`History` 객체 활용**"
   ]
  },
  {
   "cell_type": "markdown",
   "metadata": {
    "id": "MM1Wsq_nbwjX"
   },
   "source": [
    "`history` 속성: 평가지표를 사전 자료형으로 저장"
   ]
  },
  {
   "cell_type": "code",
   "execution_count": 32,
   "metadata": {
    "id": "Bi5PbXDXbwjY",
    "outputId": "e91322d0-3e19-4aef-e7f8-70c2d4516756"
   },
   "outputs": [
    {
     "data": {
      "text/plain": [
       "dict_keys(['loss', 'accuracy', 'val_loss', 'val_accuracy'])"
      ]
     },
     "execution_count": 32,
     "metadata": {},
     "output_type": "execute_result"
    }
   ],
   "source": [
    "history_dict = history.history\n",
    "\n",
    "history_dict.keys()"
   ]
  },
  {
   "cell_type": "markdown",
   "metadata": {
    "id": "PKq_uZimbwjY"
   },
   "source": [
    "*손실값의 변화*"
   ]
  },
  {
   "cell_type": "code",
   "execution_count": 33,
   "metadata": {
    "id": "lbjFRt4JbwjY"
   },
   "outputs": [],
   "source": [
    "import matplotlib.pyplot as plt"
   ]
  },
  {
   "cell_type": "code",
   "execution_count": 34,
   "metadata": {
    "id": "6dPvc4PqbwjY",
    "outputId": "61ad2b6e-1b2a-41d3-c82c-3d78e7b2921d"
   },
   "outputs": [
    {
     "data": {
      "image/png": "[encoded data removed]",
      "text/plain": [
       "<Figure size 640x480 with 1 Axes>"
      ]
     },
     "metadata": {},
     "output_type": "display_data"
    }
   ],
   "source": [
    "history_dict = history.history\n",
    "loss_values = history_dict[\"loss\"]\n",
    "val_loss_values = history_dict[\"val_loss\"]\n",
    "\n",
    "epochs = range(1, len(loss_values) + 1)\n",
    "\n",
    "plt.plot(epochs, loss_values, \"bo\", label=\"Training loss\")\n",
    "plt.plot(epochs, val_loss_values, \"g\", label=\"Validation loss\")\n",
    "\n",
    "plt.title(\"Training and validation loss\")\n",
    "plt.xlabel(\"Epochs\")\n",
    "plt.ylabel(\"Loss\")\n",
    "plt.legend()\n",
    "plt.show()"
   ]
  },
  {
   "cell_type": "markdown",
   "metadata": {
    "id": "QWxB7p_RbwjZ"
   },
   "source": [
    "*정확도의 변화*"
   ]
  },
  {
   "cell_type": "code",
   "execution_count": 35,
   "metadata": {
    "id": "hrdJmRdxbwjZ",
    "outputId": "23cd94a0-8aaa-44db-d080-85f0ab608dac"
   },
   "outputs": [
    {
     "data": {
      "image/png": "[encoded data removed]",
      "text/plain": [
       "<Figure size 640x480 with 1 Axes>"
      ]
     },
     "metadata": {},
     "output_type": "display_data"
    }
   ],
   "source": [
    "plt.clf()    # 이전 이미지 삭제\n",
    "\n",
    "acc = history_dict[\"accuracy\"]\n",
    "val_acc = history_dict[\"val_accuracy\"]\n",
    "\n",
    "plt.plot(epochs, acc, \"bo\", label=\"Training acc\")\n",
    "plt.plot(epochs, val_acc, \"g\", label=\"Validation acc\")\n",
    "\n",
    "plt.title(\"Training and validation accuracy\")\n",
    "plt.xlabel(\"Epochs\")\n",
    "plt.ylabel(\"Accuracy\")\n",
    "plt.legend()\n",
    "plt.show()"
   ]
  },
  {
   "cell_type": "markdown",
   "metadata": {
    "id": "g_RUJOH1bwjZ"
   },
   "source": [
    "**모델 재훈련**"
   ]
  },
  {
   "cell_type": "code",
   "execution_count": 36,
   "metadata": {
    "id": "Jkep2nSSbwjZ",
    "outputId": "bdb8b72d-aacf-4a51-b761-ef3a8084180e"
   },
   "outputs": [
    {
     "name": "stdout",
     "output_type": "stream",
     "text": [
      "Epoch 1/4\n",
      " 1/49 [..............................] - ETA: 15s - loss: 0.7026 - accuracy: 0.4707"
     ]
    },
    {
     "name": "stderr",
     "output_type": "stream",
     "text": [
      "2025-06-02 10:16:14.343592: I tensorflow/core/grappler/optimizers/custom_graph_optimizer_registry.cc:114] Plugin optimizer for device_type GPU is enabled.\n"
     ]
    },
    {
     "name": "stdout",
     "output_type": "stream",
     "text": [
      "49/49 [==============================] - 1s 10ms/step - loss: 0.4693 - accuracy: 0.8168\n",
      "Epoch 2/4\n",
      "49/49 [==============================] - 0s 6ms/step - loss: 0.2705 - accuracy: 0.9078\n",
      "Epoch 3/4\n",
      "49/49 [==============================] - 0s 6ms/step - loss: 0.2048 - accuracy: 0.9280\n",
      "Epoch 4/4\n",
      "49/49 [==============================] - 0s 6ms/step - loss: 0.1727 - accuracy: 0.9404\n"
     ]
    },
    {
     "data": {
      "text/plain": [
       "<keras.src.callbacks.History at 0x323911460>"
      ]
     },
     "execution_count": 36,
     "metadata": {},
     "output_type": "execute_result"
    }
   ],
   "source": [
    "model = keras.Sequential([\n",
    "    layers.Dense(16, activation=\"relu\"),\n",
    "    layers.Dense(16, activation=\"relu\"),\n",
    "    layers.Dense(1, activation=\"sigmoid\")\n",
    "])\n",
    "model.compile(optimizer=\"rmsprop\",\n",
    "              loss=\"binary_crossentropy\",\n",
    "              metrics=[\"accuracy\"])\n",
    "model.fit(x_train, y_train, epochs=4, batch_size=512)"
   ]
  },
  {
   "cell_type": "markdown",
   "metadata": {
    "id": "gqxwebn3bwjZ"
   },
   "source": [
    "테스트셋에 대한 성능은 아래와 같이 88% 정도의 정확도를 보인다."
   ]
  },
  {
   "cell_type": "code",
   "execution_count": 37,
   "metadata": {
    "id": "snhKT6ukbwjZ",
    "outputId": "8060045b-41aa-45ee-ab4a-acf126a5081d"
   },
   "outputs": [
    {
     "name": "stdout",
     "output_type": "stream",
     "text": [
      " 36/782 [>.............................] - ETA: 2s - loss: 0.2673 - accuracy: 0.8898"
     ]
    },
    {
     "name": "stderr",
     "output_type": "stream",
     "text": [
      "2025-06-02 10:16:19.507513: I tensorflow/core/grappler/optimizers/custom_graph_optimizer_registry.cc:114] Plugin optimizer for device_type GPU is enabled.\n"
     ]
    },
    {
     "name": "stdout",
     "output_type": "stream",
     "text": [
      "782/782 [==============================] - 2s 3ms/step - loss: 0.2887 - accuracy: 0.8856\n"
     ]
    },
    {
     "data": {
      "text/plain": [
       "[0.28871315717697144, 0.8855599761009216]"
      ]
     },
     "execution_count": 37,
     "metadata": {},
     "output_type": "execute_result"
    }
   ],
   "source": [
    "results = model.evaluate(x_test, y_test)\n",
    "results"
   ]
  },
  {
   "cell_type": "markdown",
   "metadata": {
    "id": "syOdli3LbwjZ"
   },
   "source": [
    "**모델 활용**"
   ]
  },
  {
   "cell_type": "markdown",
   "metadata": {
    "id": "I2fAz8XKbwjZ"
   },
   "source": [
    "훈련된 모델을 활용하려면 `predict()` 메서드를 이용한다."
   ]
  },
  {
   "cell_type": "code",
   "execution_count": 38,
   "metadata": {
    "id": "t1XHQ_1dbwja",
    "outputId": "9cde512f-7ed0-47af-837e-765532b42642"
   },
   "outputs": [
    {
     "name": "stdout",
     "output_type": "stream",
     "text": [
      "130/782 [===>..........................] - ETA: 0s"
     ]
    },
    {
     "name": "stderr",
     "output_type": "stream",
     "text": [
      "2025-06-02 10:16:26.161454: I tensorflow/core/grappler/optimizers/custom_graph_optimizer_registry.cc:114] Plugin optimizer for device_type GPU is enabled.\n"
     ]
    },
    {
     "name": "stdout",
     "output_type": "stream",
     "text": [
      "782/782 [==============================] - 1s 1ms/step\n"
     ]
    },
    {
     "data": {
      "text/plain": [
       "array([[0.19007844],\n",
       "       [0.99997735],\n",
       "       [0.8304497 ],\n",
       "       ...,\n",
       "       [0.12547423],\n",
       "       [0.08332945],\n",
       "       [0.6445802 ]], dtype=float32)"
      ]
     },
     "execution_count": 38,
     "metadata": {},
     "output_type": "execute_result"
    }
   ],
   "source": [
    "model.predict(x_test)"
   ]
  },
  {
   "cell_type": "markdown",
   "metadata": {
    "id": "DNJf6h4Zbwja"
   },
   "source": [
    "아래처럼 데이터셋이 클 경우 배치 단위로 묶어서 예측할 수도 있다."
   ]
  }
 ],
 "metadata": {
  "colab": {
   "name": "dlp04-started_with_neural_networks",
   "provenance": []
  },
  "kernelspec": {
   "display_name": "tf-mac",
   "language": "python",
   "name": "python3"
  },
  "language_info": {
   "codemirror_mode": {
    "name": "ipython",
    "version": 3
   },
   "file_extension": ".py",
   "mimetype": "text/x-python",
   "name": "python",
   "nbconvert_exporter": "python",
   "pygments_lexer": "ipython3",
   "version": "3.8.20"
  }
 },
 "nbformat": 4,
 "nbformat_minor": 1
}
